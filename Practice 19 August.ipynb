{
 "cells": [
  {
   "cell_type": "code",
   "execution_count": 1,
   "id": "5afc3fbc-78e3-4bca-b121-dcdb1edec49e",
   "metadata": {},
   "outputs": [
    {
     "data": {
      "text/plain": [
       "3"
      ]
     },
     "execution_count": 1,
     "metadata": {},
     "output_type": "execute_result"
    }
   ],
   "source": [
    "1 + 2"
   ]
  },
  {
   "cell_type": "code",
   "execution_count": 4,
   "id": "17719a06-7cd2-40e7-aae6-a60de831b803",
   "metadata": {},
   "outputs": [
    {
     "data": {
      "text/plain": [
       "int"
      ]
     },
     "execution_count": 4,
     "metadata": {},
     "output_type": "execute_result"
    }
   ],
   "source": [
    "a = 10\n",
    "type(a)"
   ]
  },
  {
   "cell_type": "code",
   "execution_count": 8,
   "id": "47dbb23d-a731-4382-be9e-8d19fe2c18a2",
   "metadata": {},
   "outputs": [
    {
     "data": {
      "text/plain": [
       "str"
      ]
     },
     "execution_count": 8,
     "metadata": {},
     "output_type": "execute_result"
    }
   ],
   "source": [
    "name = ('Tom')  \n",
    "type(name)"
   ]
  },
  {
   "cell_type": "code",
   "execution_count": 10,
   "id": "6e524db6-1b89-470f-a76b-6642cbcc67d9",
   "metadata": {},
   "outputs": [
    {
     "data": {
      "text/plain": [
       "str"
      ]
     },
     "execution_count": 10,
     "metadata": {},
     "output_type": "execute_result"
    }
   ],
   "source": [
    "s = \"skillz\"  #no need for paranthesis\n",
    "type(s)"
   ]
  },
  {
   "cell_type": "code",
   "execution_count": 12,
   "id": "4f934a02-8997-4a15-9113-574c2ee81427",
   "metadata": {},
   "outputs": [
    {
     "data": {
      "text/plain": [
       "'Tom'"
      ]
     },
     "execution_count": 12,
     "metadata": {},
     "output_type": "execute_result"
    }
   ],
   "source": [
    "name"
   ]
  },
  {
   "cell_type": "code",
   "execution_count": 13,
   "id": "1ca5dd8d-70ce-4b1d-91a0-a0cb2dcec459",
   "metadata": {},
   "outputs": [],
   "source": [
    "f = 2.56"
   ]
  },
  {
   "cell_type": "code",
   "execution_count": 15,
   "id": "bac561d5-1806-460e-8572-e75af9eaef27",
   "metadata": {},
   "outputs": [
    {
     "data": {
      "text/plain": [
       "float"
      ]
     },
     "execution_count": 15,
     "metadata": {},
     "output_type": "execute_result"
    }
   ],
   "source": [
    "type(f)"
   ]
  },
  {
   "cell_type": "code",
   "execution_count": 16,
   "id": "e797b9ee-dc4e-4017-903a-3e309cf672cf",
   "metadata": {},
   "outputs": [],
   "source": [
    "c = 3 + 3.14j # j represents complex or imaginary number"
   ]
  },
  {
   "cell_type": "code",
   "execution_count": 17,
   "id": "91a611d7-24ea-4ba6-934f-193fa21a6eb5",
   "metadata": {},
   "outputs": [
    {
     "data": {
      "text/plain": [
       "complex"
      ]
     },
     "execution_count": 17,
     "metadata": {},
     "output_type": "execute_result"
    }
   ],
   "source": [
    "type(c)"
   ]
  },
  {
   "cell_type": "code",
   "execution_count": 18,
   "id": "f39fdb0f-2e1c-4b2b-b5a0-6cc3ef59f052",
   "metadata": {},
   "outputs": [
    {
     "data": {
      "text/plain": [
       "3.0"
      ]
     },
     "execution_count": 18,
     "metadata": {},
     "output_type": "execute_result"
    }
   ],
   "source": [
    "c.real"
   ]
  },
  {
   "cell_type": "code",
   "execution_count": 21,
   "id": "86cce9b2-361e-4c76-afaa-1deced78906f",
   "metadata": {},
   "outputs": [
    {
     "data": {
      "text/plain": [
       "3.14"
      ]
     },
     "execution_count": 21,
     "metadata": {},
     "output_type": "execute_result"
    }
   ],
   "source": [
    "c.imag   #imaginary number"
   ]
  },
  {
   "cell_type": "code",
   "execution_count": 23,
   "id": "10a31fe6-a2f9-4341-8d77-1384a45a9fe9",
   "metadata": {},
   "outputs": [],
   "source": [
    "b = True"
   ]
  },
  {
   "cell_type": "code",
   "execution_count": 24,
   "id": "8a866330-1473-4383-84c7-ca6f7af3c719",
   "metadata": {},
   "outputs": [
    {
     "data": {
      "text/plain": [
       "bool"
      ]
     },
     "execution_count": 24,
     "metadata": {},
     "output_type": "execute_result"
    }
   ],
   "source": [
    "type(b)   #bolean i,e true or false variable"
   ]
  },
  {
   "cell_type": "code",
   "execution_count": 25,
   "id": "abdc5968-3233-4bf0-bcb3-7fc46ead608e",
   "metadata": {},
   "outputs": [],
   "source": [
    "a1 = 2\n",
    "a2 = 3"
   ]
  },
  {
   "cell_type": "code",
   "execution_count": 26,
   "id": "9fa80c45-e38e-4bea-9f63-00e877b77082",
   "metadata": {},
   "outputs": [
    {
     "data": {
      "text/plain": [
       "5"
      ]
     },
     "execution_count": 26,
     "metadata": {},
     "output_type": "execute_result"
    }
   ],
   "source": [
    "a1 + a2"
   ]
  },
  {
   "cell_type": "code",
   "execution_count": 27,
   "id": "7da36bf0-e0b4-4422-925e-450ad8bea168",
   "metadata": {},
   "outputs": [],
   "source": [
    "a3 , a4 = 4 , 5"
   ]
  },
  {
   "cell_type": "code",
   "execution_count": 28,
   "id": "305aa8fa-b80d-4dcd-82c5-25cbc9e5637d",
   "metadata": {},
   "outputs": [
    {
     "data": {
      "text/plain": [
       "20"
      ]
     },
     "execution_count": 28,
     "metadata": {},
     "output_type": "execute_result"
    }
   ],
   "source": [
    "a3 * a4"
   ]
  },
  {
   "cell_type": "code",
   "execution_count": 29,
   "id": "24d9c2b4-d3a2-46ef-a84a-495bc28c0b74",
   "metadata": {},
   "outputs": [],
   "source": [
    "a , b , c , d = 22 , \"hye\" , 20.3, True"
   ]
  },
  {
   "cell_type": "code",
   "execution_count": 30,
   "id": "d1224975-3a0a-4f0c-bf00-356de4b2e0d5",
   "metadata": {},
   "outputs": [
    {
     "data": {
      "text/plain": [
       "'hye'"
      ]
     },
     "execution_count": 30,
     "metadata": {},
     "output_type": "execute_result"
    }
   ],
   "source": [
    "b"
   ]
  },
  {
   "cell_type": "code",
   "execution_count": 31,
   "id": "d0a8eb16-f665-4638-93a5-2db8c00bb1ba",
   "metadata": {},
   "outputs": [],
   "source": [
    "# variable cannot start with numbers or special characters"
   ]
  },
  {
   "cell_type": "code",
   "execution_count": 32,
   "id": "f631e312-1e8d-4b45-abc5-1d870ed08c36",
   "metadata": {},
   "outputs": [
    {
     "name": "stderr",
     "output_type": "stream",
     "text": [
      "UsageError: Line magic function `%a` not found.\n"
     ]
    }
   ],
   "source": [
    "%a = 2"
   ]
  },
  {
   "cell_type": "code",
   "execution_count": 33,
   "id": "41ff194f-32a2-45fa-bd74-fcff7c26ad40",
   "metadata": {},
   "outputs": [
    {
     "ename": "SyntaxError",
     "evalue": "invalid decimal literal (3484930041.py, line 1)",
     "output_type": "error",
     "traceback": [
      "\u001b[0;36m  Cell \u001b[0;32mIn[33], line 1\u001b[0;36m\u001b[0m\n\u001b[0;31m    2a = 3\u001b[0m\n\u001b[0m    ^\u001b[0m\n\u001b[0;31mSyntaxError\u001b[0m\u001b[0;31m:\u001b[0m invalid decimal literal\n"
     ]
    }
   ],
   "source": [
    "2a = 3"
   ]
  },
  {
   "cell_type": "code",
   "execution_count": 34,
   "id": "58590a7b-abf2-4d8c-a487-5cf10917fd3d",
   "metadata": {},
   "outputs": [],
   "source": [
    "_a = 3  # only underscore works"
   ]
  },
  {
   "cell_type": "code",
   "execution_count": 36,
   "id": "20a53865-1264-4f66-86bf-6e5d48810cb2",
   "metadata": {},
   "outputs": [],
   "source": [
    "b1 = True\n",
    "b2 = False"
   ]
  },
  {
   "cell_type": "code",
   "execution_count": 37,
   "id": "064fae5b-2d75-4f69-b33f-a24a9542aee0",
   "metadata": {},
   "outputs": [
    {
     "data": {
      "text/plain": [
       "1"
      ]
     },
     "execution_count": 37,
     "metadata": {},
     "output_type": "execute_result"
    }
   ],
   "source": [
    "b1 - b2  # true is 1 and false is 0 in binary"
   ]
  },
  {
   "cell_type": "code",
   "execution_count": 38,
   "id": "283a63d4-24f4-41cc-8111-a636df5a723d",
   "metadata": {},
   "outputs": [
    {
     "data": {
      "text/plain": [
       "0"
      ]
     },
     "execution_count": 38,
     "metadata": {},
     "output_type": "execute_result"
    }
   ],
   "source": [
    " b1 * b2"
   ]
  },
  {
   "cell_type": "code",
   "execution_count": 39,
   "id": "2319ce54-b982-4840-ac48-8e9e4e7ab065",
   "metadata": {},
   "outputs": [
    {
     "ename": "ZeroDivisionError",
     "evalue": "division by zero",
     "output_type": "error",
     "traceback": [
      "\u001b[0;31m---------------------------------------------------------------------------\u001b[0m",
      "\u001b[0;31mZeroDivisionError\u001b[0m                         Traceback (most recent call last)",
      "Cell \u001b[0;32mIn[39], line 1\u001b[0m\n\u001b[0;32m----> 1\u001b[0m \u001b[43mb1\u001b[49m\u001b[38;5;241;43m/\u001b[39;49m\u001b[43mb2\u001b[49m\n",
      "\u001b[0;31mZeroDivisionError\u001b[0m: division by zero"
     ]
    }
   ],
   "source": [
    "b1/b2"
   ]
  },
  {
   "cell_type": "code",
   "execution_count": 40,
   "id": "1d86ac25-dcaf-4545-b88f-3948a3eb7598",
   "metadata": {},
   "outputs": [
    {
     "ename": "SyntaxError",
     "evalue": "unterminated string literal (detected at line 2) (185721652.py, line 2)",
     "output_type": "error",
     "traceback": [
      "\u001b[0;36m  Cell \u001b[0;32mIn[40], line 2\u001b[0;36m\u001b[0m\n\u001b[0;31m    s1 = ' this is master's'\u001b[0m\n\u001b[0m                           ^\u001b[0m\n\u001b[0;31mSyntaxError\u001b[0m\u001b[0;31m:\u001b[0m unterminated string literal (detected at line 2)\n"
     ]
    }
   ],
   "source": [
    "# strings\n",
    "s1 = ' this is master's'"
   ]
  },
  {
   "cell_type": "code",
   "execution_count": 41,
   "id": "f2b3813e-3d1e-4eb3-9fd3-2088385c30cf",
   "metadata": {},
   "outputs": [],
   "source": [
    "s1 = \" this is master's\""
   ]
  },
  {
   "cell_type": "code",
   "execution_count": 43,
   "id": "b486737d-4388-4c72-8f94-5a5d992658af",
   "metadata": {},
   "outputs": [
    {
     "data": {
      "text/plain": [
       "'multiline comments are to be made\\nby putting hashes before every line\\nor you can just use TRIPLE QUOTES'"
      ]
     },
     "execution_count": 43,
     "metadata": {},
     "output_type": "execute_result"
    }
   ],
   "source": [
    "'''IF multi-line comments are to be made\n",
    "by putting hashes before every line\n",
    "or you can just use TRIPLE QUOTES'''"
   ]
  },
  {
   "cell_type": "code",
   "execution_count": 45,
   "id": "a70b7716-f062-4b41-9447-296c427f3a78",
   "metadata": {},
   "outputs": [],
   "source": [
    "s1 = \"tom\""
   ]
  },
  {
   "cell_type": "code",
   "execution_count": 46,
   "id": "abce315d-fd0c-4292-b1b0-e4933769be2e",
   "metadata": {},
   "outputs": [],
   "source": [
    "a = 3"
   ]
  },
  {
   "cell_type": "code",
   "execution_count": 47,
   "id": "5ce020fe-52a7-4d22-b3b3-6f05ce0798df",
   "metadata": {},
   "outputs": [
    {
     "ename": "TypeError",
     "evalue": "can only concatenate str (not \"int\") to str",
     "output_type": "error",
     "traceback": [
      "\u001b[0;31m---------------------------------------------------------------------------\u001b[0m",
      "\u001b[0;31mTypeError\u001b[0m                                 Traceback (most recent call last)",
      "Cell \u001b[0;32mIn[47], line 1\u001b[0m\n\u001b[0;32m----> 1\u001b[0m \u001b[43ms1\u001b[49m\u001b[43m \u001b[49m\u001b[38;5;241;43m+\u001b[39;49m\u001b[43m \u001b[49m\u001b[43ma\u001b[49m\n",
      "\u001b[0;31mTypeError\u001b[0m: can only concatenate str (not \"int\") to str"
     ]
    }
   ],
   "source": [
    "s1 + a  # string plus int cannot be added"
   ]
  },
  {
   "cell_type": "code",
   "execution_count": 51,
   "id": "ee194ae0-c670-4471-9daa-117bb6dda131",
   "metadata": {},
   "outputs": [
    {
     "data": {
      "text/plain": [
       "' Tom  &  Jerry '"
      ]
     },
     "execution_count": 51,
     "metadata": {},
     "output_type": "execute_result"
    }
   ],
   "source": [
    "' Tom ' + ' & ' +' Jerry '  # same data type can be added"
   ]
  },
  {
   "cell_type": "code",
   "execution_count": 49,
   "id": "1652d36c-1f99-4ea7-9009-396b0f056b8b",
   "metadata": {},
   "outputs": [],
   "source": [
    "a = 10"
   ]
  },
  {
   "cell_type": "code",
   "execution_count": 50,
   "id": "66d4fec6-ef44-4f03-91ff-a377dea707a5",
   "metadata": {},
   "outputs": [
    {
     "data": {
      "text/plain": [
       "'10'"
      ]
     },
     "execution_count": 50,
     "metadata": {},
     "output_type": "execute_result"
    }
   ],
   "source": [
    "str(a)   # type casting, meanin converting int to string"
   ]
  },
  {
   "cell_type": "code",
   "execution_count": 56,
   "id": "f583e15f-f22c-4726-9bcf-e21b8d28e4a7",
   "metadata": {},
   "outputs": [
    {
     "data": {
      "text/plain": [
       "'tom 10'"
      ]
     },
     "execution_count": 56,
     "metadata": {},
     "output_type": "execute_result"
    }
   ],
   "source": [
    "s1 + \" \" + str(a)  # adds a space"
   ]
  },
  {
   "cell_type": "code",
   "execution_count": 57,
   "id": "342d8cae-e674-4ba7-9729-6de7797317c3",
   "metadata": {},
   "outputs": [],
   "source": [
    "a = 3"
   ]
  },
  {
   "cell_type": "code",
   "execution_count": 58,
   "id": "1fd5c69b-7650-4fe4-997b-2c19ef781133",
   "metadata": {},
   "outputs": [],
   "source": [
    "b = int(a)"
   ]
  },
  {
   "cell_type": "code",
   "execution_count": 59,
   "id": "0e8a5481-02eb-42b1-a1c4-aa7f4b6d21d2",
   "metadata": {},
   "outputs": [
    {
     "data": {
      "text/plain": [
       "3"
      ]
     },
     "execution_count": 59,
     "metadata": {},
     "output_type": "execute_result"
    }
   ],
   "source": [
    "int(b)"
   ]
  },
  {
   "cell_type": "code",
   "execution_count": 60,
   "id": "79c60e22-b7d1-4753-8863-9aee205135b0",
   "metadata": {},
   "outputs": [],
   "source": [
    "# input\n",
    "a = 2023"
   ]
  },
  {
   "cell_type": "code",
   "execution_count": 66,
   "id": "e5ff1dc6-470d-4f40-9f71-6bc913592e5e",
   "metadata": {},
   "outputs": [
    {
     "name": "stdin",
     "output_type": "stream",
     "text": [
      " 332\n"
     ]
    }
   ],
   "source": [
    "b = input()"
   ]
  },
  {
   "cell_type": "code",
   "execution_count": 68,
   "id": "ba21b088-6bf2-4c8c-876c-36fa82de2594",
   "metadata": {},
   "outputs": [
    {
     "data": {
      "text/plain": [
       "int"
      ]
     },
     "execution_count": 68,
     "metadata": {},
     "output_type": "execute_result"
    }
   ],
   "source": [
    "type(int(b))  # type casting"
   ]
  },
  {
   "cell_type": "code",
   "execution_count": 69,
   "id": "f217c45a-b313-4e72-bb63-6b099ed5d090",
   "metadata": {},
   "outputs": [
    {
     "name": "stdin",
     "output_type": "stream",
     "text": [
      " d\n"
     ]
    },
    {
     "ename": "ValueError",
     "evalue": "invalid literal for int() with base 10: 'd'",
     "output_type": "error",
     "traceback": [
      "\u001b[0;31m---------------------------------------------------------------------------\u001b[0m",
      "\u001b[0;31mValueError\u001b[0m                                Traceback (most recent call last)",
      "Cell \u001b[0;32mIn[69], line 1\u001b[0m\n\u001b[0;32m----> 1\u001b[0m c \u001b[38;5;241m=\u001b[39m \u001b[38;5;28;43mint\u001b[39;49m\u001b[43m(\u001b[49m\u001b[38;5;28;43minput\u001b[39;49m\u001b[43m(\u001b[49m\u001b[43m)\u001b[49m\u001b[43m)\u001b[49m  \u001b[38;5;66;03m# will only take integers now\u001b[39;00m\n",
      "\u001b[0;31mValueError\u001b[0m: invalid literal for int() with base 10: 'd'"
     ]
    }
   ],
   "source": [
    "c = int(input())  # will only take integers now\n"
   ]
  },
  {
   "cell_type": "code",
   "execution_count": 71,
   "id": "c3a72b11-18f4-4378-90eb-e267cf1f98eb",
   "metadata": {},
   "outputs": [
    {
     "name": "stdin",
     "output_type": "stream",
     "text": [
      " 22\n"
     ]
    }
   ],
   "source": [
    "s = int(input())"
   ]
  },
  {
   "cell_type": "code",
   "execution_count": 72,
   "id": "b466e44b-f43e-4880-923a-b19196e0b559",
   "metadata": {},
   "outputs": [
    {
     "data": {
      "text/plain": [
       "int"
      ]
     },
     "execution_count": 72,
     "metadata": {},
     "output_type": "execute_result"
    }
   ],
   "source": [
    "type(s)"
   ]
  },
  {
   "cell_type": "code",
   "execution_count": 73,
   "id": "1921ade1-5907-4b3b-b2b2-01fcb17b4e40",
   "metadata": {},
   "outputs": [
    {
     "name": "stdin",
     "output_type": "stream",
     "text": [
      " True\n"
     ]
    }
   ],
   "source": [
    "b = bool(input())"
   ]
  },
  {
   "cell_type": "code",
   "execution_count": 74,
   "id": "17ee74c5-2e52-4657-abab-e3ad97d35271",
   "metadata": {},
   "outputs": [
    {
     "name": "stdin",
     "output_type": "stream",
     "text": [
      " 21\n"
     ]
    }
   ],
   "source": [
    "f = float(input())"
   ]
  },
  {
   "cell_type": "code",
   "execution_count": 75,
   "id": "aa96d4e3-35fd-490a-8b08-7eef204320ab",
   "metadata": {},
   "outputs": [
    {
     "data": {
      "text/plain": [
       "float"
      ]
     },
     "execution_count": 75,
     "metadata": {},
     "output_type": "execute_result"
    }
   ],
   "source": [
    "type(f)"
   ]
  },
  {
   "cell_type": "code",
   "execution_count": 84,
   "id": "a588478c-f300-45b4-a7d2-a4718c3a57ba",
   "metadata": {},
   "outputs": [],
   "source": [
    "s = \"tommy\"  # extract characters within a STRING"
   ]
  },
  {
   "cell_type": "code",
   "execution_count": null,
   "id": "debfe8fa-0232-42f3-bdc1-05f3553386a8",
   "metadata": {},
   "outputs": [],
   "source": [
    "'''\n",
    "0   1  2  3  4   forward indexing\n",
    "T   O  M  M  Y\n",
    "-5 -4 -3 -2 -1    backward indexing\n",
    "'''"
   ]
  },
  {
   "cell_type": "code",
   "execution_count": 79,
   "id": "488fc5cb-a632-4882-aee7-0716fd81f7ed",
   "metadata": {},
   "outputs": [
    {
     "data": {
      "text/plain": [
       "'o'"
      ]
     },
     "execution_count": 79,
     "metadata": {},
     "output_type": "execute_result"
    }
   ],
   "source": [
    "s[1] # 1 is value of forward indexing of o"
   ]
  },
  {
   "cell_type": "code",
   "execution_count": 82,
   "id": "01bf7700-71f4-4242-b475-98b0cb2993c6",
   "metadata": {},
   "outputs": [
    {
     "data": {
      "text/plain": [
       "'m'"
      ]
     },
     "execution_count": 82,
     "metadata": {},
     "output_type": "execute_result"
    }
   ],
   "source": [
    "s[3]"
   ]
  },
  {
   "cell_type": "code",
   "execution_count": 85,
   "id": "05ff8a75-aaac-478e-a250-756f8ec2a1b2",
   "metadata": {},
   "outputs": [
    {
     "data": {
      "text/plain": [
       "'o'"
      ]
     },
     "execution_count": 85,
     "metadata": {},
     "output_type": "execute_result"
    }
   ],
   "source": [
    "s[-4]"
   ]
  },
  {
   "cell_type": "code",
   "execution_count": 86,
   "id": "1dfe970f-364f-4cc1-b1e8-6ec75bbfd4e1",
   "metadata": {},
   "outputs": [
    {
     "data": {
      "text/plain": [
       "'y'"
      ]
     },
     "execution_count": 86,
     "metadata": {},
     "output_type": "execute_result"
    }
   ],
   "source": [
    "s[-1]"
   ]
  },
  {
   "cell_type": "code",
   "execution_count": 89,
   "id": "6dfa9481-89ee-47a6-9036-21de9769f2ad",
   "metadata": {},
   "outputs": [],
   "source": [
    "q = \"pwskills\"  # slicing"
   ]
  },
  {
   "cell_type": "code",
   "execution_count": null,
   "id": "832dca17-0f8b-46e5-bcbe-478bc0ea8a00",
   "metadata": {},
   "outputs": [],
   "source": [
    "'''\n",
    "01234567\n",
    "pwskills  '''"
   ]
  },
  {
   "cell_type": "code",
   "execution_count": 96,
   "id": "236b57e8-0c77-4dfd-b419-fc0c3b7c92c5",
   "metadata": {},
   "outputs": [
    {
     "data": {
      "text/plain": [
       "'pw'"
      ]
     },
     "execution_count": 96,
     "metadata": {},
     "output_type": "execute_result"
    }
   ],
   "source": [
    "q[0:2]  # it will extract upto minus 1 of given end index"
   ]
  },
  {
   "cell_type": "code",
   "execution_count": 98,
   "id": "a0e21b29-8729-4c60-8cbc-198f0aa9cb7c",
   "metadata": {},
   "outputs": [
    {
     "data": {
      "text/plain": [
       "'skills'"
      ]
     },
     "execution_count": 98,
     "metadata": {},
     "output_type": "execute_result"
    }
   ],
   "source": [
    "q[2:8]  # it will extract from plus 1 from ist index"
   ]
  },
  {
   "cell_type": "code",
   "execution_count": 99,
   "id": "a43f9726-3e49-45b1-968c-bb94ac707e80",
   "metadata": {},
   "outputs": [
    {
     "data": {
      "text/plain": [
       "'skills'"
      ]
     },
     "execution_count": 99,
     "metadata": {},
     "output_type": "execute_result"
    }
   ],
   "source": [
    "q[2:]  # without giving end index"
   ]
  },
  {
   "cell_type": "code",
   "execution_count": 101,
   "id": "8af8a7c2-acd3-45e9-943f-164b8468631b",
   "metadata": {},
   "outputs": [
    {
     "data": {
      "text/plain": [
       "'psil'"
      ]
     },
     "execution_count": 101,
     "metadata": {},
     "output_type": "execute_result"
    }
   ],
   "source": [
    "q[0:8:2]  # 3rd parametre is JUMP, 0 +2, 2+2,...."
   ]
  },
  {
   "cell_type": "code",
   "execution_count": 106,
   "id": "fd6e1a7e-3408-4e6f-b12d-b5d8567ad653",
   "metadata": {},
   "outputs": [
    {
     "data": {
      "text/plain": [
       "''"
      ]
     },
     "execution_count": 106,
     "metadata": {},
     "output_type": "execute_result"
    }
   ],
   "source": [
    "q[7:3]  # by default jump is +1, hence blank"
   ]
  },
  {
   "cell_type": "code",
   "execution_count": 104,
   "id": "8a1f7c57-ea2b-44f7-83cf-3c994decd746",
   "metadata": {},
   "outputs": [
    {
     "data": {
      "text/plain": [
       "'slli'"
      ]
     },
     "execution_count": 104,
     "metadata": {},
     "output_type": "execute_result"
    }
   ],
   "source": [
    "q[7:3:-1] # by default jump is +1"
   ]
  },
  {
   "cell_type": "code",
   "execution_count": 105,
   "id": "8f4cdbd9-bdab-46ba-872f-b8a7ffaa569c",
   "metadata": {},
   "outputs": [
    {
     "data": {
      "text/plain": [
       "'pwskills'"
      ]
     },
     "execution_count": 105,
     "metadata": {},
     "output_type": "execute_result"
    }
   ],
   "source": [
    "q"
   ]
  },
  {
   "cell_type": "code",
   "execution_count": 107,
   "id": "b4bd2705-404f-4864-bc42-e50ef8800fa8",
   "metadata": {},
   "outputs": [
    {
     "data": {
      "text/plain": [
       "''"
      ]
     },
     "execution_count": 107,
     "metadata": {},
     "output_type": "execute_result"
    }
   ],
   "source": [
    "q[-1:-5]"
   ]
  },
  {
   "cell_type": "code",
   "execution_count": 108,
   "id": "9cff2a13-1b92-491b-9a46-663102de5696",
   "metadata": {},
   "outputs": [
    {
     "data": {
      "text/plain": [
       "'slli'"
      ]
     },
     "execution_count": 108,
     "metadata": {},
     "output_type": "execute_result"
    }
   ],
   "source": [
    "q[-1:-5:-1]"
   ]
  },
  {
   "cell_type": "code",
   "execution_count": 111,
   "id": "6851dba7-f225-46ac-b8d6-39359d573c49",
   "metadata": {},
   "outputs": [
    {
     "data": {
      "text/plain": [
       "'slliksw'"
      ]
     },
     "execution_count": 111,
     "metadata": {},
     "output_type": "execute_result"
    }
   ],
   "source": [
    "q[7:0:-1] #reverse the whole string"
   ]
  },
  {
   "cell_type": "code",
   "execution_count": 112,
   "id": "df6d7185-c260-4b4c-ace6-4291f6d79e0c",
   "metadata": {},
   "outputs": [
    {
     "data": {
      "text/plain": [
       "''"
      ]
     },
     "execution_count": 112,
     "metadata": {},
     "output_type": "execute_result"
    }
   ],
   "source": [
    "# missing the ist alphabet so\n",
    "q[7:-1:-1]"
   ]
  },
  {
   "cell_type": "code",
   "execution_count": 113,
   "id": "0c108f8e-275c-40f2-93ea-da55bf2d8c17",
   "metadata": {},
   "outputs": [
    {
     "data": {
      "text/plain": [
       "'sllikswp'"
      ]
     },
     "execution_count": 113,
     "metadata": {},
     "output_type": "execute_result"
    }
   ],
   "source": [
    "q[7:-9:-1]"
   ]
  },
  {
   "cell_type": "code",
   "execution_count": 114,
   "id": "6d256f02-b36c-4987-896e-5b61baa8d2a3",
   "metadata": {},
   "outputs": [
    {
     "data": {
      "text/plain": [
       "'sllikswp'"
      ]
     },
     "execution_count": 114,
     "metadata": {},
     "output_type": "execute_result"
    }
   ],
   "source": [
    "q[7::-1]"
   ]
  },
  {
   "cell_type": "code",
   "execution_count": 115,
   "id": "2f91146e-a5e4-4d41-aef3-a5c8bbdc1a41",
   "metadata": {},
   "outputs": [
    {
     "data": {
      "text/plain": [
       "'sllikswp'"
      ]
     },
     "execution_count": 115,
     "metadata": {},
     "output_type": "execute_result"
    }
   ],
   "source": [
    "q[::-1] #reverse jumping"
   ]
  },
  {
   "cell_type": "code",
   "execution_count": 116,
   "id": "7b8533a4-d564-4129-a3c1-0208573fa93c",
   "metadata": {},
   "outputs": [
    {
     "data": {
      "text/plain": [
       "'pwskills'"
      ]
     },
     "execution_count": 116,
     "metadata": {},
     "output_type": "execute_result"
    }
   ],
   "source": [
    "q"
   ]
  },
  {
   "cell_type": "code",
   "execution_count": 117,
   "id": "f01b7a1f-da47-4c39-b34c-0f03cc97a947",
   "metadata": {},
   "outputs": [
    {
     "ename": "TypeError",
     "evalue": "'str' object does not support item assignment",
     "output_type": "error",
     "traceback": [
      "\u001b[0;31m---------------------------------------------------------------------------\u001b[0m",
      "\u001b[0;31mTypeError\u001b[0m                                 Traceback (most recent call last)",
      "Cell \u001b[0;32mIn[117], line 1\u001b[0m\n\u001b[0;32m----> 1\u001b[0m \u001b[43mq\u001b[49m\u001b[43m[\u001b[49m\u001b[38;5;241;43m0\u001b[39;49m\u001b[43m]\u001b[49m \u001b[38;5;241m=\u001b[39m \u001b[38;5;124m'\u001b[39m\u001b[38;5;124ms\u001b[39m\u001b[38;5;124m'\u001b[39m  \u001b[38;5;66;03m# change a certain value, or reassignment\u001b[39;00m\n",
      "\u001b[0;31mTypeError\u001b[0m: 'str' object does not support item assignment"
     ]
    }
   ],
   "source": [
    "q[0] = 's'  # change a certain value, or reassignment"
   ]
  },
  {
   "cell_type": "code",
   "execution_count": null,
   "id": "718e26e3-014e-4b7b-9266-b6838b6d06e2",
   "metadata": {},
   "outputs": [],
   "source": [
    "# hence string is IMMUTABLE"
   ]
  },
  {
   "cell_type": "code",
   "execution_count": 5,
   "id": "71f99ac3-ddd3-472b-9675-ea1bd6921537",
   "metadata": {},
   "outputs": [
    {
     "name": "stdin",
     "output_type": "stream",
     "text": [
      " 2\n",
      " 4\n"
     ]
    }
   ],
   "source": [
    "l = int(input())  #input value of length\n",
    "b = int(input())  # input value of breadth\n",
    "area = l * b     # store l & b in area and use multiple function to get area of rectangle"
   ]
  },
  {
   "cell_type": "code",
   "execution_count": 6,
   "id": "d41c6a30-90d1-4284-b3f7-5faf172200d8",
   "metadata": {},
   "outputs": [
    {
     "data": {
      "text/plain": [
       "8"
      ]
     },
     "execution_count": 6,
     "metadata": {},
     "output_type": "execute_result"
    }
   ],
   "source": [
    "area"
   ]
  },
  {
   "cell_type": "code",
   "execution_count": null,
   "id": "bc5af7ef-7bb3-44ab-9aa6-1ca14b0df68c",
   "metadata": {},
   "outputs": [],
   "source": []
  }
 ],
 "metadata": {
  "kernelspec": {
   "display_name": "Python 3 (ipykernel)",
   "language": "python",
   "name": "python3"
  },
  "language_info": {
   "codemirror_mode": {
    "name": "ipython",
    "version": 3
   },
   "file_extension": ".py",
   "mimetype": "text/x-python",
   "name": "python",
   "nbconvert_exporter": "python",
   "pygments_lexer": "ipython3",
   "version": "3.10.8"
  }
 },
 "nbformat": 4,
 "nbformat_minor": 5
}
